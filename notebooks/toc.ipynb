{
 "cells": [
  {
   "cell_type": "markdown",
   "metadata": {},
   "source": [
    "# [Controlling-Natural-Watersheds](https://jckantor.github.io/Controlling-Natural-Watersheds)\n",
    "\n",
    "\n",
    "## [Chapter 1.0 Data Sources](http://nbviewer.jupyter.org/github/jckantor/Controlling-Natural-Watersheds/blob/master/notebooks/01.00-Data_Sources.ipynb)\n",
    "\n",
    "### [1.1 Water Survey of Canada HYDAT](http://nbviewer.jupyter.org/github/jckantor/Controlling-Natural-Watersheds/blob/master/notebooks/01.01-Water_Survey_of_Canada_HYDAT.ipynb)\n",
    "- [Initialization and Loading of HYDAT Data Tables](http://nbviewer.jupyter.org/github/jckantor/Controlling-Natural-Watersheds/blob/master/notebooks/01.01-Water_Survey_of_Canada_HYDAT.ipynb#Initialization-and-Loading-of-HYDAT-Data-Tables)\n",
    "- [Monitoring Stations in the Rainy River Watershed](http://nbviewer.jupyter.org/github/jckantor/Controlling-Natural-Watersheds/blob/master/notebooks/01.01-Water_Survey_of_Canada_HYDAT.ipynb#Monitoring-Stations-in-the-Rainy-River-Watershed)\n",
    "- [Pickle Level Data to WSC_LEVELS](http://nbviewer.jupyter.org/github/jckantor/Controlling-Natural-Watersheds/blob/master/notebooks/01.01-Water_Survey_of_Canada_HYDAT.ipynb#Pickle-Level-Data-to-WSC_LEVELS)\n",
    "- [Pickle Flow Data to WSC_FLOWS](http://nbviewer.jupyter.org/github/jckantor/Controlling-Natural-Watersheds/blob/master/notebooks/01.01-Water_Survey_of_Canada_HYDAT.ipynb#Pickle-Flow-Data-to-WSC_FLOWS)\n",
    "* Markdown Links\n",
    "    - [HYDAT database](https://www.ec.gc.ca/rhc-wsc/default.asp?lang=En&n=9018B5EC-1)\n",
    "    - [Water Survey of Canada (WSC)](http://wateroffice.ec.gc.ca/)\n",
    "    - [HYDAT database](https://www.ec.gc.ca/rhc-wsc/default.asp?lang=En&n=9018B5EC-1)\n",
    "    - [MDB Explorer](http://www.mdbexplorer.com/)\n",
    "    - [Rainy River drainage](http://www.ijc.org/files/tinymce/uploaded/rl_basinmap.pdf)"
   ]
  }
 ],
 "metadata": {},
 "nbformat": 4,
 "nbformat_minor": 2
}
