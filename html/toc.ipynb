{
 "cells": [
  {
   "cell_type": "markdown",
   "metadata": {},
   "source": [
    "# [Controlling-Natural-Watersheds](https://jckantor.github.io/Controlling-Natural-Watersheds)\n",
    "\n",
    "### [1.1 Water Survey of Canada HYDAT](http://nbviewer.jupyter.org/github/jckantor/Controlling-Natural-Watersheds/blob/master/notebooks/01.01-Water_Survey_of_Canada_HYDAT.ipynb)\n",
    "* Markdown Links\n",
    "    - [HYDAT database](https://www.ec.gc.ca/rhc-wsc/default.asp?lang=En&n=9018B5EC-1)\n",
    "    - [Water Survey of Canada (WSC)](http://wateroffice.ec.gc.ca/)\n",
    "    - [HYDAT database](https://www.ec.gc.ca/rhc-wsc/default.asp?lang=En&n=9018B5EC-1)\n",
    "    - [MDB Explorer](http://www.mdbexplorer.com/)\n",
    "    - [Initialization](#Initialization)\n",
    "    - [Monitoring Stations in the Rainy River Watershed](#Monitoring Stations)\n",
    "    - [Pickle Level Data to WSC_LEVELS](#WSC_LEVELS)\n",
    "    - [Pickle Flow Data to WSC_FLOWS](#WSC_FLOWS)\n",
    "    - [Rainy River drainage](http://www.ijc.org/files/tinymce/uploaded/rl_basinmap.pdf)"
   ]
  }
 ],
 "metadata": {},
 "nbformat": 4,
 "nbformat_minor": 2
}
